{
 "cells": [
  {
   "cell_type": "code",
   "execution_count": null,
   "metadata": {},
   "outputs": [],
   "source": [
    "import pandas as pd\n",
    "import numpy as np\n",
    "import os\n",
    "from tqdm import tqdm\n",
    "import matplotlib.pyplot as plt "
   ]
  },
  {
   "cell_type": "code",
   "execution_count": null,
   "metadata": {},
   "outputs": [],
   "source": [
    "import warnings\n",
    "warnings.filterwarnings('ignore')"
   ]
  },
  {
   "cell_type": "code",
   "execution_count": null,
   "metadata": {},
   "outputs": [],
   "source": [
    "path = os.getcwd().replace('scripts','')\n",
    "reviews = pd.read_csv(path + 'data/Movies_Reviews.csv')\n",
    "reviews_sample = reviews.sample( n = 5000 )\n"
   ]
  },
  {
   "cell_type": "code",
   "execution_count": null,
   "metadata": {},
   "outputs": [],
   "source": [
    "reviews_sample[\"averageRating\"].hist( density = True )\n",
    "reviews[\"averageRating\"].hist( density = True)\n",
    "plt.show()\n"
   ]
  },
  {
   "cell_type": "code",
   "execution_count": null,
   "metadata": {},
   "outputs": [],
   "source": [
    "features = reviews_sample['Plot']\n",
    "targets = reviews_sample['averageRating']\n",
    "features = features.str.lower()\n",
    "features = features.str.replace('[^\\w\\s]','')"
   ]
  },
  {
   "cell_type": "code",
   "execution_count": null,
   "metadata": {},
   "outputs": [],
   "source": [
    "import torch\n",
    "from transformers import *\n",
    "#from pytorch_pretrained_bert import BertTokenizer \n",
    "tokenizer = BertTokenizer.from_pretrained(  'bert-base-uncased'  )\n",
    "model = BertModel.from_pretrained( \"bert-base-uncased\" )\n",
    "input_ids = features.apply( lambda x:  tokenizer.encode(   \" \".join( tokenizer.tokenize( x )[:400]   ) ))     \n",
    "#input_ids = torch.tensor( [   tokenizer.tokenize( x ) for x in features.values[:10]  ] ) "
   ]
  },
  {
   "cell_type": "code",
   "execution_count": 12,
   "metadata": {
    "scrolled": false
   },
   "outputs": [
    {
     "data": {
      "text/plain": [
       "5000"
      ]
     },
     "execution_count": 12,
     "metadata": {},
     "output_type": "execute_result"
    }
   ],
   "source": [
    "len( input_ids )"
   ]
  },
  {
   "cell_type": "code",
   "execution_count": null,
   "metadata": {},
   "outputs": [
    {
     "name": "stderr",
     "output_type": "stream",
     "text": [
      "  0%|          | 13/5000 [00:18<2:10:37,  1.57s/it]"
     ]
    }
   ],
   "source": [
    "new_features = []\n",
    "valid_index = []\n",
    "i = 0 \n",
    "model = BertModel.from_pretrained(  'bert-base-uncased' , output_hidden_states = True )\n",
    "for feat in tqdm( input_ids ) : \n",
    "    \n",
    "    try:\n",
    "        inputs_tensor = torch.tensor( [ feat ])\n",
    "        all_hidden_states, all_attentions = model(inputs_tensor)[-2:]\n",
    "        new_features.append( all_hidden_states )\n",
    "        valid_index.append( i )\n",
    "        i = i + 1 \n",
    "    except:\n",
    "        continue\n",
    "    "
   ]
  },
  {
   "cell_type": "code",
   "execution_count": null,
   "metadata": {},
   "outputs": [],
   "source": []
  },
  {
   "cell_type": "code",
   "execution_count": null,
   "metadata": {},
   "outputs": [],
   "source": [
    "input_ids = torch.tensor([tokenizer.encode(\"Here is some text to encode\", add_special_tokens=True)])  # Add special tokens takes care of adding [CLS], [SEP], <s>... tokens in the right way for each model.\n"
   ]
  },
  {
   "cell_type": "code",
   "execution_count": null,
   "metadata": {},
   "outputs": [],
   "source": [
    "input_ids"
   ]
  },
  {
   "cell_type": "code",
   "execution_count": null,
   "metadata": {},
   "outputs": [],
   "source": [
    "tokenizer.tokenize(\" asdasdas\")"
   ]
  },
  {
   "cell_type": "code",
   "execution_count": null,
   "metadata": {},
   "outputs": [],
   "source": [
    "import torch\n",
    "from transformers import *\n",
    "\n",
    "# Transformers has a unified API\n",
    "# for 8 transformer architectures and 30 pretrained weights.\n",
    "#          Model          | Tokenizer          | Pretrained weights shortcut\n",
    "MODELS = [(BertModel,       BertTokenizer,       'bert-base-uncased')]\n",
    "\n",
    "# To use TensorFlow 2.0 versions of the models, simply prefix the class names with 'TF', e.g. `TFRobertaModel` is the TF 2.0 counterpart of the PyTorch model `RobertaModel`\n",
    "\n",
    "# Let's encode some text in a sequence of hidden-states using each model:\n",
    "for model_class, tokenizer_class, pretrained_weights in MODELS:\n",
    "    # Load pretrained model/tokenizer\n",
    "    tokenizer = tokenizer_class.from_pretrained(pretrained_weights)\n",
    "    model = model_class.from_pretrained(pretrained_weights)\n",
    "\n",
    "    # Encode text\n",
    "    input_ids = torch.tensor([tokenizer.encode(\"Here is some text to encode\", add_special_tokens=True)])  # Add special tokens takes care of adding [CLS], [SEP], <s>... tokens in the right way for each model.\n",
    "    with torch.no_grad():\n",
    "        last_hidden_states = model(input_ids)[0]  # Models outputs are now tuples\n",
    "\n",
    "    # Each architecture is provided with several class for fine-tuning on down-stream tasks, e.g.\n",
    "    BERT_MODEL_CLASSES = [BertModel, BertForPreTraining, BertForMaskedLM, BertForNextSentencePrediction,\n",
    "                          BertForSequenceClassification, BertForMultipleChoice, BertForTokenClassification,\n",
    "                          BertForQuestionAnswering]\n",
    "\n",
    "    BERT_MODEL_CLASSES = [ BertModel ]\n",
    "    # All the classes for an architecture can be initiated from pretrained weights for this architecture\n",
    "    # Note that additional weights added for fine-tuning are only initialized\n",
    "    # and need to be trained on the down-stream task\n",
    "    tokenizer = BertTokenizer.from_pretrained('bert-base-uncased')\n",
    "    for model_class in BERT_MODEL_CLASSES:\n",
    "        # Load pretrained model/tokenizer\n",
    "        #model = model_class.from_pretrained('bert-base-uncased')\n",
    "\n",
    "        # Models can return full list of hidden-states & attentions weights at each layer\n",
    "        model = model_class.from_pretrained(pretrained_weights,\n",
    "                                            output_hidden_states=True,\n",
    "                                            output_attentions=False)\n",
    "        input_ids = torch.tensor([tokenizer.encode(\"Let's see all hidden-states and attentions on this text\")])\n",
    "        all_hidden_states, all_attentions = model(input_ids)[-2:]\n",
    "\n",
    "        print( all_hidden_states   )\n",
    "        print( all_hidden_states.shape )\n",
    "        # Models are compatible with Torchscript\n",
    "        #model = model_class.from_pretrained(pretrained_weights, torchscript=True)\n",
    "        #traced_model = torch.jit.trace(model, (input_ids,))\n",
    "\n",
    "        # Simple serialization for models and tokenizers\n",
    "        #model.save_pretrained('./directory/to/save/')  # save\n",
    "        #model = model_class.from_pretrained('./directory/to/save/')  # re-load\n",
    "        #tokenizer.save_pretrained('./directory/to/save/')  # save\n",
    "        #tokenizer = BertTokenizer.from_pretrained('./directory/to/save/')  # re-load\n",
    "\n",
    "        # SOTA examples for GLUE, SQUAD, text generation..."
   ]
  },
  {
   "cell_type": "code",
   "execution_count": null,
   "metadata": {},
   "outputs": [],
   "source": []
  }
 ],
 "metadata": {
  "kernelspec": {
   "display_name": "Python 3",
   "language": "python",
   "name": "python3"
  },
  "language_info": {
   "codemirror_mode": {
    "name": "ipython",
    "version": 3
   },
   "file_extension": ".py",
   "mimetype": "text/x-python",
   "name": "python",
   "nbconvert_exporter": "python",
   "pygments_lexer": "ipython3",
   "version": "3.7.4"
  }
 },
 "nbformat": 4,
 "nbformat_minor": 2
}
