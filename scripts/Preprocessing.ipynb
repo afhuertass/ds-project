{
 "cells": [
  {
   "cell_type": "code",
   "execution_count": 1,
   "metadata": {},
   "outputs": [],
   "source": [
    "import csv\n",
    "import pandas as pd\n",
    "import dask.dataframe as dd\n",
    "import os"
   ]
  },
  {
   "cell_type": "code",
   "execution_count": 3,
   "metadata": {},
   "outputs": [],
   "source": [
    "path = os.getcwd()"
   ]
  },
  {
   "cell_type": "code",
   "execution_count": null,
   "metadata": {},
   "outputs": [],
   "source": [
    "tp = dd.read_csv(path + 'title.principals.tsv', sep = '\\t')\n",
    "tp = tp[['tconst', 'nconst']]\n",
    "names = dd.read_csv(path + 'name.basics.tsv', sep = '\\t')\n",
    "names = names[['nconst', 'primaryName']]"
   ]
  },
  {
   "cell_type": "code",
   "execution_count": null,
   "metadata": {},
   "outputs": [],
   "source": [
    "titles = pd.read_csv(path + 'title.basics.tsv', sep = '\\t', error_bad_lines = False)\n",
    "titles.head()\n",
    "titles = titles[['tconst', 'primaryTitle', 'originalTitle', 'startYear']]\n",
    "titles['tfix'] = titles['primaryTitle'].str.lower()\n",
    "titles['tfix'] = titles['tfix'].str.replace('[^\\w\\s]','')"
   ]
  },
  {
   "cell_type": "code",
   "execution_count": null,
   "metadata": {},
   "outputs": [],
   "source": [
    "wiki = pd.read_csv(path + 'wiki_movie_plots_deduped.csv')\n",
    "wiki = wiki[['Release Year', 'Title', 'Plot']]\n",
    "wiki['tfix'] = wiki['Title'].str.lower()\n",
    "wiki['tfix'] = wiki['tfix'].str.replace('[^\\w\\s]','')\n",
    "wiki.head()"
   ]
  },
  {
   "cell_type": "code",
   "execution_count": null,
   "metadata": {},
   "outputs": [],
   "source": [
    "titles['startYear'] = titles['startYear'].astype(str)\n",
    "wiki['Release Year'] = wiki['Release Year'].astype(str)\n",
    "movies_main = titles.merge(wiki, left_on=['tfix', 'startYear'], right_on=['tfix', 'Release Year'])\n",
    "movies_main.head()"
   ]
  },
  {
   "cell_type": "code",
   "execution_count": null,
   "metadata": {},
   "outputs": [],
   "source": [
    "movies_main = dd.from_pandas(movies_main, npartitions=7)\n",
    "movies_main = movies_main[['tconst', 'Title','startYear','Plot']]"
   ]
  },
  {
   "cell_type": "code",
   "execution_count": null,
   "metadata": {},
   "outputs": [],
   "source": [
    "tp = tp.merge(movies_main[['tconst','Title']], on = 'tconst')"
   ]
  },
  {
   "cell_type": "code",
   "execution_count": null,
   "metadata": {},
   "outputs": [],
   "source": [
    "names['primaryName'] = names['primaryName'].str.replace(' ','') + ' '"
   ]
  },
  {
   "cell_type": "code",
   "execution_count": null,
   "metadata": {},
   "outputs": [],
   "source": [
    "tp = tp.merge(names, left_on='nconst', right_on='nconst')"
   ]
  },
  {
   "cell_type": "code",
   "execution_count": null,
   "metadata": {},
   "outputs": [],
   "source": [
    "tp = tp.groupby(tp.tconst).primaryName.sum()\n",
    "tp = tp.to_frame()\n",
    "movies_main = movies_main.merge(tp, on = 'tconst')"
   ]
  },
  {
   "cell_type": "code",
   "execution_count": null,
   "metadata": {},
   "outputs": [],
   "source": [
    "rev = dd.read_csv(path + 'title.ratings.tsv', sep = '\\t')\n",
    "movies_main = movies_main.merge(rev, on = 'tconst')"
   ]
  },
  {
   "cell_type": "code",
   "execution_count": null,
   "metadata": {},
   "outputs": [],
   "source": [
    "movies_main = movies_main.compute()"
   ]
  },
  {
   "cell_type": "code",
   "execution_count": null,
   "metadata": {},
   "outputs": [],
   "source": [
    "os.remove(path + \"Movies_Reviews.csv\")\n",
    "movies_main.to_csv(path + 'Movies_Reviews.csv', index = False)"
   ]
  }
 ],
 "metadata": {
  "kernelspec": {
   "display_name": "Python 3",
   "language": "python",
   "name": "python3"
  },
  "language_info": {
   "codemirror_mode": {
    "name": "ipython",
    "version": 3
   },
   "file_extension": ".py",
   "mimetype": "text/x-python",
   "name": "python",
   "nbconvert_exporter": "python",
   "pygments_lexer": "ipython3",
   "version": "3.5.2"
  }
 },
 "nbformat": 4,
 "nbformat_minor": 2
}
