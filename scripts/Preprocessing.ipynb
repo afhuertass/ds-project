{
 "cells": [
  {
   "cell_type": "code",
   "execution_count": 4,
   "metadata": {},
   "outputs": [],
   "source": [
    "import csv\n",
    "import pandas as pd\n",
    "import dask.dataframe as dd\n",
    "import os"
   ]
  },
  {
   "cell_type": "code",
   "execution_count": 13,
   "metadata": {},
   "outputs": [
    {
     "data": {
      "text/plain": [
       "'/home/afhuertas/data-science/master/fall2019/ids/project/data/'"
      ]
     },
     "execution_count": 13,
     "metadata": {},
     "output_type": "execute_result"
    }
   ],
   "source": [
    "path = os.getcwd().replace( \"scripts\" , \"data/\") \n",
    "path"
   ]
  },
  {
   "cell_type": "code",
   "execution_count": 14,
   "metadata": {},
   "outputs": [],
   "source": [
    "tp = dd.read_csv(path + 'title.principals.tsv', sep = '\\t')\n",
    "tp = tp[['tconst', 'nconst']]\n",
    "names = dd.read_csv(path + 'name.basics.tsv', sep = '\\t')\n",
    "names = names[['nconst', 'primaryName']]"
   ]
  },
  {
   "cell_type": "code",
   "execution_count": 15,
   "metadata": {},
   "outputs": [
    {
     "name": "stderr",
     "output_type": "stream",
     "text": [
      "/home/afhuertas/data-science/env-sonnet/lib/python3.5/site-packages/IPython/core/interactiveshell.py:2728: DtypeWarning: Columns (5) have mixed types. Specify dtype option on import or set low_memory=False.\n",
      "  interactivity=interactivity, compiler=compiler, result=result)\n"
     ]
    }
   ],
   "source": [
    "titles = pd.read_csv(path + 'title.basics.tsv', sep = '\\t', error_bad_lines = False)\n",
    "titles.head()\n",
    "titles = titles[['tconst', 'primaryTitle', 'originalTitle', 'startYear']]\n",
    "titles['tfix'] = titles['primaryTitle'].str.lower()\n",
    "titles['tfix'] = titles['tfix'].str.replace('[^\\w\\s]','')"
   ]
  },
  {
   "cell_type": "code",
   "execution_count": 16,
   "metadata": {},
   "outputs": [
    {
     "data": {
      "text/html": [
       "<div>\n",
       "<style scoped>\n",
       "    .dataframe tbody tr th:only-of-type {\n",
       "        vertical-align: middle;\n",
       "    }\n",
       "\n",
       "    .dataframe tbody tr th {\n",
       "        vertical-align: top;\n",
       "    }\n",
       "\n",
       "    .dataframe thead th {\n",
       "        text-align: right;\n",
       "    }\n",
       "</style>\n",
       "<table border=\"1\" class=\"dataframe\">\n",
       "  <thead>\n",
       "    <tr style=\"text-align: right;\">\n",
       "      <th></th>\n",
       "      <th>Release Year</th>\n",
       "      <th>Title</th>\n",
       "      <th>Plot</th>\n",
       "      <th>tfix</th>\n",
       "    </tr>\n",
       "  </thead>\n",
       "  <tbody>\n",
       "    <tr>\n",
       "      <th>0</th>\n",
       "      <td>1901</td>\n",
       "      <td>Kansas Saloon Smashers</td>\n",
       "      <td>A bartender is working at a saloon, serving dr...</td>\n",
       "      <td>kansas saloon smashers</td>\n",
       "    </tr>\n",
       "    <tr>\n",
       "      <th>1</th>\n",
       "      <td>1901</td>\n",
       "      <td>Love by the Light of the Moon</td>\n",
       "      <td>The moon, painted with a smiling face hangs ov...</td>\n",
       "      <td>love by the light of the moon</td>\n",
       "    </tr>\n",
       "    <tr>\n",
       "      <th>2</th>\n",
       "      <td>1901</td>\n",
       "      <td>The Martyred Presidents</td>\n",
       "      <td>The film, just over a minute long, is composed...</td>\n",
       "      <td>the martyred presidents</td>\n",
       "    </tr>\n",
       "    <tr>\n",
       "      <th>3</th>\n",
       "      <td>1901</td>\n",
       "      <td>Terrible Teddy, the Grizzly King</td>\n",
       "      <td>Lasting just 61 seconds and consisting of two ...</td>\n",
       "      <td>terrible teddy the grizzly king</td>\n",
       "    </tr>\n",
       "    <tr>\n",
       "      <th>4</th>\n",
       "      <td>1902</td>\n",
       "      <td>Jack and the Beanstalk</td>\n",
       "      <td>The earliest known adaptation of the classic f...</td>\n",
       "      <td>jack and the beanstalk</td>\n",
       "    </tr>\n",
       "  </tbody>\n",
       "</table>\n",
       "</div>"
      ],
      "text/plain": [
       "   Release Year                             Title  \\\n",
       "0          1901            Kansas Saloon Smashers   \n",
       "1          1901     Love by the Light of the Moon   \n",
       "2          1901           The Martyred Presidents   \n",
       "3          1901  Terrible Teddy, the Grizzly King   \n",
       "4          1902            Jack and the Beanstalk   \n",
       "\n",
       "                                                Plot  \\\n",
       "0  A bartender is working at a saloon, serving dr...   \n",
       "1  The moon, painted with a smiling face hangs ov...   \n",
       "2  The film, just over a minute long, is composed...   \n",
       "3  Lasting just 61 seconds and consisting of two ...   \n",
       "4  The earliest known adaptation of the classic f...   \n",
       "\n",
       "                              tfix  \n",
       "0           kansas saloon smashers  \n",
       "1    love by the light of the moon  \n",
       "2          the martyred presidents  \n",
       "3  terrible teddy the grizzly king  \n",
       "4           jack and the beanstalk  "
      ]
     },
     "execution_count": 16,
     "metadata": {},
     "output_type": "execute_result"
    }
   ],
   "source": [
    "wiki = pd.read_csv(path + 'wiki_movie_plots_deduped.csv')\n",
    "wiki = wiki[['Release Year', 'Title', 'Plot']]\n",
    "wiki['tfix'] = wiki['Title'].str.lower()\n",
    "wiki['tfix'] = wiki['tfix'].str.replace('[^\\w\\s]','')\n",
    "wiki.head()"
   ]
  },
  {
   "cell_type": "code",
   "execution_count": 17,
   "metadata": {},
   "outputs": [
    {
     "data": {
      "text/html": [
       "<div>\n",
       "<style scoped>\n",
       "    .dataframe tbody tr th:only-of-type {\n",
       "        vertical-align: middle;\n",
       "    }\n",
       "\n",
       "    .dataframe tbody tr th {\n",
       "        vertical-align: top;\n",
       "    }\n",
       "\n",
       "    .dataframe thead th {\n",
       "        text-align: right;\n",
       "    }\n",
       "</style>\n",
       "<table border=\"1\" class=\"dataframe\">\n",
       "  <thead>\n",
       "    <tr style=\"text-align: right;\">\n",
       "      <th></th>\n",
       "      <th>tconst</th>\n",
       "      <th>primaryTitle</th>\n",
       "      <th>originalTitle</th>\n",
       "      <th>startYear</th>\n",
       "      <th>tfix</th>\n",
       "      <th>Release Year</th>\n",
       "      <th>Title</th>\n",
       "      <th>Plot</th>\n",
       "    </tr>\n",
       "  </thead>\n",
       "  <tbody>\n",
       "    <tr>\n",
       "      <th>0</th>\n",
       "      <td>tt0000399</td>\n",
       "      <td>Jack and the Beanstalk</td>\n",
       "      <td>Jack and the Beanstalk</td>\n",
       "      <td>1902</td>\n",
       "      <td>jack and the beanstalk</td>\n",
       "      <td>1902</td>\n",
       "      <td>Jack and the Beanstalk</td>\n",
       "      <td>The earliest known adaptation of the classic f...</td>\n",
       "    </tr>\n",
       "    <tr>\n",
       "      <th>1</th>\n",
       "      <td>tt0000420</td>\n",
       "      <td>Alice in Wonderland</td>\n",
       "      <td>Alice in Wonderland</td>\n",
       "      <td>1903</td>\n",
       "      <td>alice in wonderland</td>\n",
       "      <td>1903</td>\n",
       "      <td>Alice in Wonderland</td>\n",
       "      <td>Alice follows a large white rabbit down a \"Rab...</td>\n",
       "    </tr>\n",
       "    <tr>\n",
       "      <th>2</th>\n",
       "      <td>tt0000439</td>\n",
       "      <td>The Great Train Robbery</td>\n",
       "      <td>The Great Train Robbery</td>\n",
       "      <td>1903</td>\n",
       "      <td>the great train robbery</td>\n",
       "      <td>1903</td>\n",
       "      <td>The Great Train Robbery</td>\n",
       "      <td>The film opens with two bandits breaking into ...</td>\n",
       "    </tr>\n",
       "    <tr>\n",
       "      <th>3</th>\n",
       "      <td>tt0000487</td>\n",
       "      <td>The Great Train Robbery</td>\n",
       "      <td>The Great Train Robbery</td>\n",
       "      <td>1903</td>\n",
       "      <td>the great train robbery</td>\n",
       "      <td>1903</td>\n",
       "      <td>The Great Train Robbery</td>\n",
       "      <td>The film opens with two bandits breaking into ...</td>\n",
       "    </tr>\n",
       "    <tr>\n",
       "      <th>4</th>\n",
       "      <td>tt0000488</td>\n",
       "      <td>The Land Beyond the Sunset</td>\n",
       "      <td>The Land Beyond the Sunset</td>\n",
       "      <td>1912</td>\n",
       "      <td>the land beyond the sunset</td>\n",
       "      <td>1912</td>\n",
       "      <td>The Land Beyond the Sunset</td>\n",
       "      <td>Joe is an impoverished New York newsboy who li...</td>\n",
       "    </tr>\n",
       "  </tbody>\n",
       "</table>\n",
       "</div>"
      ],
      "text/plain": [
       "      tconst                primaryTitle               originalTitle  \\\n",
       "0  tt0000399      Jack and the Beanstalk      Jack and the Beanstalk   \n",
       "1  tt0000420         Alice in Wonderland         Alice in Wonderland   \n",
       "2  tt0000439     The Great Train Robbery     The Great Train Robbery   \n",
       "3  tt0000487     The Great Train Robbery     The Great Train Robbery   \n",
       "4  tt0000488  The Land Beyond the Sunset  The Land Beyond the Sunset   \n",
       "\n",
       "  startYear                        tfix Release Year  \\\n",
       "0      1902      jack and the beanstalk         1902   \n",
       "1      1903         alice in wonderland         1903   \n",
       "2      1903     the great train robbery         1903   \n",
       "3      1903     the great train robbery         1903   \n",
       "4      1912  the land beyond the sunset         1912   \n",
       "\n",
       "                        Title  \\\n",
       "0      Jack and the Beanstalk   \n",
       "1         Alice in Wonderland   \n",
       "2     The Great Train Robbery   \n",
       "3     The Great Train Robbery   \n",
       "4  The Land Beyond the Sunset   \n",
       "\n",
       "                                                Plot  \n",
       "0  The earliest known adaptation of the classic f...  \n",
       "1  Alice follows a large white rabbit down a \"Rab...  \n",
       "2  The film opens with two bandits breaking into ...  \n",
       "3  The film opens with two bandits breaking into ...  \n",
       "4  Joe is an impoverished New York newsboy who li...  "
      ]
     },
     "execution_count": 17,
     "metadata": {},
     "output_type": "execute_result"
    }
   ],
   "source": [
    "titles['startYear'] = titles['startYear'].astype(str)\n",
    "wiki['Release Year'] = wiki['Release Year'].astype(str)\n",
    "movies_main = titles.merge(wiki, left_on=['tfix', 'startYear'], right_on=['tfix', 'Release Year'])\n",
    "movies_main.head()"
   ]
  },
  {
   "cell_type": "code",
   "execution_count": 18,
   "metadata": {},
   "outputs": [],
   "source": [
    "movies_main = dd.from_pandas(movies_main, npartitions=7)\n",
    "movies_main = movies_main[['tconst', 'Title','startYear','Plot']]"
   ]
  },
  {
   "cell_type": "code",
   "execution_count": 19,
   "metadata": {},
   "outputs": [],
   "source": [
    "tp = tp.merge(movies_main[['tconst','Title']], on = 'tconst')"
   ]
  },
  {
   "cell_type": "code",
   "execution_count": 20,
   "metadata": {},
   "outputs": [],
   "source": [
    "names['primaryName'] = names['primaryName'].str.replace(' ','') + ' '"
   ]
  },
  {
   "cell_type": "code",
   "execution_count": 21,
   "metadata": {},
   "outputs": [],
   "source": [
    "tp = tp.merge(names, left_on='nconst', right_on='nconst')"
   ]
  },
  {
   "cell_type": "code",
   "execution_count": 22,
   "metadata": {},
   "outputs": [],
   "source": [
    "tp = tp.groupby(tp.tconst).primaryName.sum()\n",
    "tp = tp.to_frame()\n",
    "movies_main = movies_main.merge(tp, on = 'tconst')"
   ]
  },
  {
   "cell_type": "code",
   "execution_count": 23,
   "metadata": {},
   "outputs": [],
   "source": [
    "rev = dd.read_csv(path + 'title.ratings.tsv', sep = '\\t')\n",
    "movies_main = movies_main.merge(rev, on = 'tconst')"
   ]
  },
  {
   "cell_type": "code",
   "execution_count": 25,
   "metadata": {},
   "outputs": [],
   "source": [
    "movies_main = movies_main.compute()"
   ]
  },
  {
   "cell_type": "code",
   "execution_count": 27,
   "metadata": {},
   "outputs": [],
   "source": [
    "#os.remove(path + \"Movies_Reviews.csv\")\n",
    "movies_main.to_csv(path + 'Movies_Reviews.csv', index = False)"
   ]
  },
  {
   "cell_type": "code",
   "execution_count": 28,
   "metadata": {},
   "outputs": [
    {
     "data": {
      "text/html": [
       "<div>\n",
       "<style scoped>\n",
       "    .dataframe tbody tr th:only-of-type {\n",
       "        vertical-align: middle;\n",
       "    }\n",
       "\n",
       "    .dataframe tbody tr th {\n",
       "        vertical-align: top;\n",
       "    }\n",
       "\n",
       "    .dataframe thead th {\n",
       "        text-align: right;\n",
       "    }\n",
       "</style>\n",
       "<table border=\"1\" class=\"dataframe\">\n",
       "  <thead>\n",
       "    <tr style=\"text-align: right;\">\n",
       "      <th></th>\n",
       "      <th>tconst</th>\n",
       "      <th>Title</th>\n",
       "      <th>startYear</th>\n",
       "      <th>Plot</th>\n",
       "      <th>primaryName</th>\n",
       "      <th>averageRating</th>\n",
       "      <th>numVotes</th>\n",
       "    </tr>\n",
       "  </thead>\n",
       "  <tbody>\n",
       "    <tr>\n",
       "      <th>0</th>\n",
       "      <td>tt0000399</td>\n",
       "      <td>Jack and the Beanstalk</td>\n",
       "      <td>1902</td>\n",
       "      <td>The earliest known adaptation of the classic f...</td>\n",
       "      <td>GeorgeS.Fleming ThomasWhite EdwinS.Porter Jame...</td>\n",
       "      <td>6.1</td>\n",
       "      <td>600</td>\n",
       "    </tr>\n",
       "    <tr>\n",
       "      <th>1</th>\n",
       "      <td>tt0000420</td>\n",
       "      <td>Alice in Wonderland</td>\n",
       "      <td>1903</td>\n",
       "      <td>Alice follows a large white rabbit down a \"Rab...</td>\n",
       "      <td>LewisCarroll MayClark CecilM.Hepworth Blair Pe...</td>\n",
       "      <td>6.3</td>\n",
       "      <td>2161</td>\n",
       "    </tr>\n",
       "    <tr>\n",
       "      <th>2</th>\n",
       "      <td>tt0000439</td>\n",
       "      <td>The Great Train Robbery</td>\n",
       "      <td>1903</td>\n",
       "      <td>The film opens with two bandits breaking into ...</td>\n",
       "      <td>GilbertM.'BronchoBilly'Anderson ScottMarble Bl...</td>\n",
       "      <td>7.3</td>\n",
       "      <td>15461</td>\n",
       "    </tr>\n",
       "    <tr>\n",
       "      <th>3</th>\n",
       "      <td>tt0000487</td>\n",
       "      <td>The Great Train Robbery</td>\n",
       "      <td>1903</td>\n",
       "      <td>The film opens with two bandits breaking into ...</td>\n",
       "      <td>SiegmundLubin JackFrawley EmilyLowry</td>\n",
       "      <td>7.1</td>\n",
       "      <td>352</td>\n",
       "    </tr>\n",
       "    <tr>\n",
       "      <th>4</th>\n",
       "      <td>tt0000488</td>\n",
       "      <td>The Land Beyond the Sunset</td>\n",
       "      <td>1912</td>\n",
       "      <td>Joe is an impoverished New York newsboy who li...</td>\n",
       "      <td>Mrs.WilliamBechtel MartinFuller WalterEdwin Do...</td>\n",
       "      <td>6.9</td>\n",
       "      <td>623</td>\n",
       "    </tr>\n",
       "  </tbody>\n",
       "</table>\n",
       "</div>"
      ],
      "text/plain": [
       "      tconst                       Title startYear  \\\n",
       "0  tt0000399      Jack and the Beanstalk      1902   \n",
       "1  tt0000420         Alice in Wonderland      1903   \n",
       "2  tt0000439     The Great Train Robbery      1903   \n",
       "3  tt0000487     The Great Train Robbery      1903   \n",
       "4  tt0000488  The Land Beyond the Sunset      1912   \n",
       "\n",
       "                                                Plot  \\\n",
       "0  The earliest known adaptation of the classic f...   \n",
       "1  Alice follows a large white rabbit down a \"Rab...   \n",
       "2  The film opens with two bandits breaking into ...   \n",
       "3  The film opens with two bandits breaking into ...   \n",
       "4  Joe is an impoverished New York newsboy who li...   \n",
       "\n",
       "                                         primaryName  averageRating  numVotes  \n",
       "0  GeorgeS.Fleming ThomasWhite EdwinS.Porter Jame...            6.1       600  \n",
       "1  LewisCarroll MayClark CecilM.Hepworth Blair Pe...            6.3      2161  \n",
       "2  GilbertM.'BronchoBilly'Anderson ScottMarble Bl...            7.3     15461  \n",
       "3              SiegmundLubin JackFrawley EmilyLowry             7.1       352  \n",
       "4  Mrs.WilliamBechtel MartinFuller WalterEdwin Do...            6.9       623  "
      ]
     },
     "execution_count": 28,
     "metadata": {},
     "output_type": "execute_result"
    }
   ],
   "source": [
    "movies_main.head()"
   ]
  },
  {
   "cell_type": "code",
   "execution_count": null,
   "metadata": {},
   "outputs": [],
   "source": []
  }
 ],
 "metadata": {
  "kernelspec": {
   "display_name": "Python 3",
   "language": "python",
   "name": "python3"
  },
  "language_info": {
   "codemirror_mode": {
    "name": "ipython",
    "version": 3
   },
   "file_extension": ".py",
   "mimetype": "text/x-python",
   "name": "python",
   "nbconvert_exporter": "python",
   "pygments_lexer": "ipython3",
   "version": "3.5.2"
  }
 },
 "nbformat": 4,
 "nbformat_minor": 2
}
