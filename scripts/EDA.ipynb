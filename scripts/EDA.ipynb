{
 "cells": [
  {
   "cell_type": "code",
   "execution_count": 1,
   "metadata": {},
   "outputs": [],
   "source": [
    "import pandas as pd \n",
    "import dask as dd \n",
    "import numpy as np"
   ]
  },
  {
   "cell_type": "markdown",
   "metadata": {},
   "source": [
    "# Step 1 \n",
    "\n",
    "Merge movie titles with plots and ratings and actors \n"
   ]
  },
  {
   "cell_type": "code",
   "execution_count": 2,
   "metadata": {},
   "outputs": [
    {
     "name": "stderr",
     "output_type": "stream",
     "text": [
      "/home/afhuertas/data-science/env-sonnet/lib/python3.5/site-packages/IPython/core/interactiveshell.py:2728: DtypeWarning: Columns (5) have mixed types. Specify dtype option on import or set low_memory=False.\n",
      "  interactivity=interactivity, compiler=compiler, result=result)\n"
     ]
    }
   ],
   "source": [
    "df_title = pd.read_csv(\"../data/title.basics.tsv\" , sep = \"\\t\")\n",
    "df_rat = pd.read_csv( \"../data/title.ratings.tsv\" , sep = \"\\t\" )\n",
    "df_wiki = pd.read_csv( \"../data/wiki_movie_plots_deduped.csv\" )\n",
    "\n",
    "\n",
    "df_title = df_title[ [ \"tconst\" , \"originalTitle\" , \"startYear\"] ]\n",
    "df_title.columns = [ \"id_movie\" , \"title\" , \"year\"]\n",
    "\n",
    "df_wiki = df_wiki[ [\"Title\" , \"Plot\" , \"Release Year\"]]\n",
    "df_wiki.columns = [\"title\" , \"plot\" , \"year\"]\n",
    "\n",
    "#  df_rat \n",
    "df_rat = df_rat[ [\"tconst\" , \"averageRating\"]]  # .head()\n",
    "df_rat.columns = [\"id_movie\" , \"ratings\"]\n",
    "\n",
    "\n",
    "# treat the year as string \n",
    "df_title[\"year\"] = df_title[\"year\"].astype( str )\n",
    "df_wiki[\"year\"] = df_wiki[\"year\"].astype( str )\n",
    "\n",
    "\n",
    "df_wiki_title = df_title.merge( df_wiki , on =[ \"title\" , \"year\" ], how = \"inner\" )\n",
    "\n",
    "df_wiki_rat = df_wiki_title.merge( df_rat , on = \"id_movie\" , how = \"left\" )\n",
    "\n"
   ]
  },
  {
   "cell_type": "code",
   "execution_count": 3,
   "metadata": {},
   "outputs": [
    {
     "data": {
      "text/html": [
       "<div>\n",
       "<style scoped>\n",
       "    .dataframe tbody tr th:only-of-type {\n",
       "        vertical-align: middle;\n",
       "    }\n",
       "\n",
       "    .dataframe tbody tr th {\n",
       "        vertical-align: top;\n",
       "    }\n",
       "\n",
       "    .dataframe thead th {\n",
       "        text-align: right;\n",
       "    }\n",
       "</style>\n",
       "<table border=\"1\" class=\"dataframe\">\n",
       "  <thead>\n",
       "    <tr style=\"text-align: right;\">\n",
       "      <th></th>\n",
       "      <th>id_movie</th>\n",
       "      <th>title</th>\n",
       "      <th>year</th>\n",
       "      <th>plot</th>\n",
       "      <th>ratings</th>\n",
       "    </tr>\n",
       "  </thead>\n",
       "  <tbody>\n",
       "    <tr>\n",
       "      <th>0</th>\n",
       "      <td>tt0000399</td>\n",
       "      <td>Jack and the Beanstalk</td>\n",
       "      <td>1902</td>\n",
       "      <td>The earliest known adaptation of the classic f...</td>\n",
       "      <td>6.1</td>\n",
       "    </tr>\n",
       "    <tr>\n",
       "      <th>1</th>\n",
       "      <td>tt0000420</td>\n",
       "      <td>Alice in Wonderland</td>\n",
       "      <td>1903</td>\n",
       "      <td>Alice follows a large white rabbit down a \"Rab...</td>\n",
       "      <td>6.3</td>\n",
       "    </tr>\n",
       "    <tr>\n",
       "      <th>2</th>\n",
       "      <td>tt0000439</td>\n",
       "      <td>The Great Train Robbery</td>\n",
       "      <td>1903</td>\n",
       "      <td>The film opens with two bandits breaking into ...</td>\n",
       "      <td>7.3</td>\n",
       "    </tr>\n",
       "    <tr>\n",
       "      <th>3</th>\n",
       "      <td>tt0000487</td>\n",
       "      <td>The Great Train Robbery</td>\n",
       "      <td>1903</td>\n",
       "      <td>The film opens with two bandits breaking into ...</td>\n",
       "      <td>7.1</td>\n",
       "    </tr>\n",
       "    <tr>\n",
       "      <th>4</th>\n",
       "      <td>tt0000488</td>\n",
       "      <td>The Land Beyond the Sunset</td>\n",
       "      <td>1912</td>\n",
       "      <td>Joe is an impoverished New York newsboy who li...</td>\n",
       "      <td>6.9</td>\n",
       "    </tr>\n",
       "  </tbody>\n",
       "</table>\n",
       "</div>"
      ],
      "text/plain": [
       "    id_movie                       title  year  \\\n",
       "0  tt0000399      Jack and the Beanstalk  1902   \n",
       "1  tt0000420         Alice in Wonderland  1903   \n",
       "2  tt0000439     The Great Train Robbery  1903   \n",
       "3  tt0000487     The Great Train Robbery  1903   \n",
       "4  tt0000488  The Land Beyond the Sunset  1912   \n",
       "\n",
       "                                                plot  ratings  \n",
       "0  The earliest known adaptation of the classic f...      6.1  \n",
       "1  Alice follows a large white rabbit down a \"Rab...      6.3  \n",
       "2  The film opens with two bandits breaking into ...      7.3  \n",
       "3  The film opens with two bandits breaking into ...      7.1  \n",
       "4  Joe is an impoverished New York newsboy who li...      6.9  "
      ]
     },
     "execution_count": 3,
     "metadata": {},
     "output_type": "execute_result"
    }
   ],
   "source": [
    "df_wiki_rat.head() #[ df_wiki_rat[\"title\"] == \"Alice in Wonderland\"]"
   ]
  },
  {
   "cell_type": "code",
   "execution_count": 4,
   "metadata": {},
   "outputs": [
    {
     "data": {
      "text/plain": [
       "(34288, 5)"
      ]
     },
     "execution_count": 4,
     "metadata": {},
     "output_type": "execute_result"
    }
   ],
   "source": [
    "df_wiki_rat.shape"
   ]
  },
  {
   "cell_type": "code",
   "execution_count": 5,
   "metadata": {},
   "outputs": [],
   "source": [
    "xx = list(df_wiki_rat[\"id_movie\"].values)"
   ]
  },
  {
   "cell_type": "markdown",
   "metadata": {},
   "source": [
    "# Process actors data "
   ]
  },
  {
   "cell_type": "code",
   "execution_count": 6,
   "metadata": {},
   "outputs": [],
   "source": [
    "df_principals = pd.read_csv(\"../data/title.principals.tsv\" , sep = \"\\t\") "
   ]
  },
  {
   "cell_type": "code",
   "execution_count": 7,
   "metadata": {},
   "outputs": [
    {
     "data": {
      "text/html": [
       "<div>\n",
       "<style scoped>\n",
       "    .dataframe tbody tr th:only-of-type {\n",
       "        vertical-align: middle;\n",
       "    }\n",
       "\n",
       "    .dataframe tbody tr th {\n",
       "        vertical-align: top;\n",
       "    }\n",
       "\n",
       "    .dataframe thead th {\n",
       "        text-align: right;\n",
       "    }\n",
       "</style>\n",
       "<table border=\"1\" class=\"dataframe\">\n",
       "  <thead>\n",
       "    <tr style=\"text-align: right;\">\n",
       "      <th></th>\n",
       "      <th>tconst</th>\n",
       "      <th>ordering</th>\n",
       "      <th>nconst</th>\n",
       "      <th>category</th>\n",
       "      <th>job</th>\n",
       "      <th>characters</th>\n",
       "    </tr>\n",
       "  </thead>\n",
       "  <tbody>\n",
       "    <tr>\n",
       "      <th>0</th>\n",
       "      <td>tt0000001</td>\n",
       "      <td>1</td>\n",
       "      <td>nm1588970</td>\n",
       "      <td>self</td>\n",
       "      <td>\\N</td>\n",
       "      <td>[\"Herself\"]</td>\n",
       "    </tr>\n",
       "    <tr>\n",
       "      <th>1</th>\n",
       "      <td>tt0000001</td>\n",
       "      <td>2</td>\n",
       "      <td>nm0005690</td>\n",
       "      <td>director</td>\n",
       "      <td>\\N</td>\n",
       "      <td>\\N</td>\n",
       "    </tr>\n",
       "    <tr>\n",
       "      <th>2</th>\n",
       "      <td>tt0000001</td>\n",
       "      <td>3</td>\n",
       "      <td>nm0374658</td>\n",
       "      <td>cinematographer</td>\n",
       "      <td>director of photography</td>\n",
       "      <td>\\N</td>\n",
       "    </tr>\n",
       "    <tr>\n",
       "      <th>3</th>\n",
       "      <td>tt0000002</td>\n",
       "      <td>1</td>\n",
       "      <td>nm0721526</td>\n",
       "      <td>director</td>\n",
       "      <td>\\N</td>\n",
       "      <td>\\N</td>\n",
       "    </tr>\n",
       "    <tr>\n",
       "      <th>4</th>\n",
       "      <td>tt0000002</td>\n",
       "      <td>2</td>\n",
       "      <td>nm1335271</td>\n",
       "      <td>composer</td>\n",
       "      <td>\\N</td>\n",
       "      <td>\\N</td>\n",
       "    </tr>\n",
       "  </tbody>\n",
       "</table>\n",
       "</div>"
      ],
      "text/plain": [
       "      tconst  ordering     nconst         category                      job  \\\n",
       "0  tt0000001         1  nm1588970             self                       \\N   \n",
       "1  tt0000001         2  nm0005690         director                       \\N   \n",
       "2  tt0000001         3  nm0374658  cinematographer  director of photography   \n",
       "3  tt0000002         1  nm0721526         director                       \\N   \n",
       "4  tt0000002         2  nm1335271         composer                       \\N   \n",
       "\n",
       "    characters  \n",
       "0  [\"Herself\"]  \n",
       "1           \\N  \n",
       "2           \\N  \n",
       "3           \\N  \n",
       "4           \\N  "
      ]
     },
     "execution_count": 7,
     "metadata": {},
     "output_type": "execute_result"
    }
   ],
   "source": [
    "df_principals.head()"
   ]
  },
  {
   "cell_type": "code",
   "execution_count": 8,
   "metadata": {},
   "outputs": [],
   "source": [
    "#df_principals[\"inx\"] = df_principals[\"tconst\"].apply( lambda x :  True if x in xx else False  )\n",
    "df_principals = df_principals[df_principals['tconst'].isin(  xx  )]"
   ]
  },
  {
   "cell_type": "code",
   "execution_count": 9,
   "metadata": {},
   "outputs": [
    {
     "data": {
      "text/plain": [
       "(282886, 6)"
      ]
     },
     "execution_count": 9,
     "metadata": {},
     "output_type": "execute_result"
    }
   ],
   "source": [
    "df_principals.shape"
   ]
  },
  {
   "cell_type": "code",
   "execution_count": 10,
   "metadata": {},
   "outputs": [],
   "source": [
    "df_principals = df_principals[ [\"tconst\" , \"nconst\"]] # id_pelicula , Id actor]"
   ]
  },
  {
   "cell_type": "code",
   "execution_count": 11,
   "metadata": {},
   "outputs": [],
   "source": [
    "df_principals.columns = [ \"id_movie\" , \"id_actor\"] "
   ]
  },
  {
   "cell_type": "code",
   "execution_count": 12,
   "metadata": {},
   "outputs": [],
   "source": [
    "df_name = pd.read_csv(\"../data/name.basics.tsv\" , sep = \"\\t\") "
   ]
  },
  {
   "cell_type": "code",
   "execution_count": 13,
   "metadata": {},
   "outputs": [],
   "source": [
    "df_name = df_name[[\"nconst\" , \"primaryName\"] ]\n",
    "df_name.columns = [ \"id_actor\" , \"name\"]"
   ]
  },
  {
   "cell_type": "code",
   "execution_count": 14,
   "metadata": {},
   "outputs": [
    {
     "data": {
      "text/html": [
       "<div>\n",
       "<style scoped>\n",
       "    .dataframe tbody tr th:only-of-type {\n",
       "        vertical-align: middle;\n",
       "    }\n",
       "\n",
       "    .dataframe tbody tr th {\n",
       "        vertical-align: top;\n",
       "    }\n",
       "\n",
       "    .dataframe thead th {\n",
       "        text-align: right;\n",
       "    }\n",
       "</style>\n",
       "<table border=\"1\" class=\"dataframe\">\n",
       "  <thead>\n",
       "    <tr style=\"text-align: right;\">\n",
       "      <th></th>\n",
       "      <th>id_actor</th>\n",
       "      <th>name</th>\n",
       "    </tr>\n",
       "  </thead>\n",
       "  <tbody>\n",
       "    <tr>\n",
       "      <th>0</th>\n",
       "      <td>nm0000001</td>\n",
       "      <td>Fred Astaire</td>\n",
       "    </tr>\n",
       "    <tr>\n",
       "      <th>1</th>\n",
       "      <td>nm0000002</td>\n",
       "      <td>Lauren Bacall</td>\n",
       "    </tr>\n",
       "    <tr>\n",
       "      <th>2</th>\n",
       "      <td>nm0000003</td>\n",
       "      <td>Brigitte Bardot</td>\n",
       "    </tr>\n",
       "    <tr>\n",
       "      <th>3</th>\n",
       "      <td>nm0000004</td>\n",
       "      <td>John Belushi</td>\n",
       "    </tr>\n",
       "    <tr>\n",
       "      <th>4</th>\n",
       "      <td>nm0000005</td>\n",
       "      <td>Ingmar Bergman</td>\n",
       "    </tr>\n",
       "  </tbody>\n",
       "</table>\n",
       "</div>"
      ],
      "text/plain": [
       "    id_actor             name\n",
       "0  nm0000001     Fred Astaire\n",
       "1  nm0000002    Lauren Bacall\n",
       "2  nm0000003  Brigitte Bardot\n",
       "3  nm0000004     John Belushi\n",
       "4  nm0000005   Ingmar Bergman"
      ]
     },
     "execution_count": 14,
     "metadata": {},
     "output_type": "execute_result"
    }
   ],
   "source": [
    "df_name.head()"
   ]
  },
  {
   "cell_type": "code",
   "execution_count": 15,
   "metadata": {},
   "outputs": [],
   "source": [
    "df_merge = df_principals.merge( df_name , on = \"id_actor\" )"
   ]
  },
  {
   "cell_type": "code",
   "execution_count": 16,
   "metadata": {},
   "outputs": [],
   "source": [
    "gp = df_merge.groupby( by = [ \"id_movie\"] )[\"name\"].agg( [ lambda x : \",\".join( [  name.replace(\" \" , \"\") for name in x ]  ) ])"
   ]
  },
  {
   "cell_type": "code",
   "execution_count": 17,
   "metadata": {},
   "outputs": [],
   "source": [
    "gp = gp.reset_index()\n",
    "gp.columns = [\"id_movie\" , \"actors\"]"
   ]
  },
  {
   "cell_type": "code",
   "execution_count": 18,
   "metadata": {},
   "outputs": [
    {
     "data": {
      "text/html": [
       "<div>\n",
       "<style scoped>\n",
       "    .dataframe tbody tr th:only-of-type {\n",
       "        vertical-align: middle;\n",
       "    }\n",
       "\n",
       "    .dataframe tbody tr th {\n",
       "        vertical-align: top;\n",
       "    }\n",
       "\n",
       "    .dataframe thead th {\n",
       "        text-align: right;\n",
       "    }\n",
       "</style>\n",
       "<table border=\"1\" class=\"dataframe\">\n",
       "  <thead>\n",
       "    <tr style=\"text-align: right;\">\n",
       "      <th></th>\n",
       "      <th>id_movie</th>\n",
       "      <th>actors</th>\n",
       "    </tr>\n",
       "  </thead>\n",
       "  <tbody>\n",
       "    <tr>\n",
       "      <th>0</th>\n",
       "      <td>tt0000399</td>\n",
       "      <td>JamesH.White,ThomasWhite,GeorgeS.Fleming,Edwin...</td>\n",
       "    </tr>\n",
       "    <tr>\n",
       "      <th>1</th>\n",
       "      <td>tt0000420</td>\n",
       "      <td>MayClark,CecilM.Hepworth,Blair,GeoffreyFaithfu...</td>\n",
       "    </tr>\n",
       "    <tr>\n",
       "      <th>2</th>\n",
       "      <td>tt0000439</td>\n",
       "      <td>EdwinS.Porter,DonaldGallaher,GilbertM.'Broncho...</td>\n",
       "    </tr>\n",
       "    <tr>\n",
       "      <th>3</th>\n",
       "      <td>tt0000487</td>\n",
       "      <td>EmilyLowry,SiegmundLubin,JackFrawley</td>\n",
       "    </tr>\n",
       "    <tr>\n",
       "      <th>4</th>\n",
       "      <td>tt0000488</td>\n",
       "      <td>BigelowCooper,MartinFuller,Mrs.WilliamBechtel,...</td>\n",
       "    </tr>\n",
       "  </tbody>\n",
       "</table>\n",
       "</div>"
      ],
      "text/plain": [
       "    id_movie                                             actors\n",
       "0  tt0000399  JamesH.White,ThomasWhite,GeorgeS.Fleming,Edwin...\n",
       "1  tt0000420  MayClark,CecilM.Hepworth,Blair,GeoffreyFaithfu...\n",
       "2  tt0000439  EdwinS.Porter,DonaldGallaher,GilbertM.'Broncho...\n",
       "3  tt0000487               EmilyLowry,SiegmundLubin,JackFrawley\n",
       "4  tt0000488  BigelowCooper,MartinFuller,Mrs.WilliamBechtel,..."
      ]
     },
     "execution_count": 18,
     "metadata": {},
     "output_type": "execute_result"
    }
   ],
   "source": [
    "gp.head()"
   ]
  },
  {
   "cell_type": "code",
   "execution_count": 19,
   "metadata": {},
   "outputs": [
    {
     "data": {
      "text/html": [
       "<div>\n",
       "<style scoped>\n",
       "    .dataframe tbody tr th:only-of-type {\n",
       "        vertical-align: middle;\n",
       "    }\n",
       "\n",
       "    .dataframe tbody tr th {\n",
       "        vertical-align: top;\n",
       "    }\n",
       "\n",
       "    .dataframe thead th {\n",
       "        text-align: right;\n",
       "    }\n",
       "</style>\n",
       "<table border=\"1\" class=\"dataframe\">\n",
       "  <thead>\n",
       "    <tr style=\"text-align: right;\">\n",
       "      <th></th>\n",
       "      <th>id_movie</th>\n",
       "      <th>title</th>\n",
       "      <th>year</th>\n",
       "      <th>plot</th>\n",
       "      <th>ratings</th>\n",
       "    </tr>\n",
       "  </thead>\n",
       "  <tbody>\n",
       "    <tr>\n",
       "      <th>0</th>\n",
       "      <td>tt0000399</td>\n",
       "      <td>Jack and the Beanstalk</td>\n",
       "      <td>1902</td>\n",
       "      <td>The earliest known adaptation of the classic f...</td>\n",
       "      <td>6.1</td>\n",
       "    </tr>\n",
       "    <tr>\n",
       "      <th>1</th>\n",
       "      <td>tt0000420</td>\n",
       "      <td>Alice in Wonderland</td>\n",
       "      <td>1903</td>\n",
       "      <td>Alice follows a large white rabbit down a \"Rab...</td>\n",
       "      <td>6.3</td>\n",
       "    </tr>\n",
       "    <tr>\n",
       "      <th>2</th>\n",
       "      <td>tt0000439</td>\n",
       "      <td>The Great Train Robbery</td>\n",
       "      <td>1903</td>\n",
       "      <td>The film opens with two bandits breaking into ...</td>\n",
       "      <td>7.3</td>\n",
       "    </tr>\n",
       "    <tr>\n",
       "      <th>3</th>\n",
       "      <td>tt0000487</td>\n",
       "      <td>The Great Train Robbery</td>\n",
       "      <td>1903</td>\n",
       "      <td>The film opens with two bandits breaking into ...</td>\n",
       "      <td>7.1</td>\n",
       "    </tr>\n",
       "    <tr>\n",
       "      <th>4</th>\n",
       "      <td>tt0000488</td>\n",
       "      <td>The Land Beyond the Sunset</td>\n",
       "      <td>1912</td>\n",
       "      <td>Joe is an impoverished New York newsboy who li...</td>\n",
       "      <td>6.9</td>\n",
       "    </tr>\n",
       "  </tbody>\n",
       "</table>\n",
       "</div>"
      ],
      "text/plain": [
       "    id_movie                       title  year  \\\n",
       "0  tt0000399      Jack and the Beanstalk  1902   \n",
       "1  tt0000420         Alice in Wonderland  1903   \n",
       "2  tt0000439     The Great Train Robbery  1903   \n",
       "3  tt0000487     The Great Train Robbery  1903   \n",
       "4  tt0000488  The Land Beyond the Sunset  1912   \n",
       "\n",
       "                                                plot  ratings  \n",
       "0  The earliest known adaptation of the classic f...      6.1  \n",
       "1  Alice follows a large white rabbit down a \"Rab...      6.3  \n",
       "2  The film opens with two bandits breaking into ...      7.3  \n",
       "3  The film opens with two bandits breaking into ...      7.1  \n",
       "4  Joe is an impoverished New York newsboy who li...      6.9  "
      ]
     },
     "execution_count": 19,
     "metadata": {},
     "output_type": "execute_result"
    }
   ],
   "source": [
    "df_wiki_rat.head()"
   ]
  },
  {
   "cell_type": "code",
   "execution_count": 20,
   "metadata": {},
   "outputs": [
    {
     "data": {
      "text/plain": [
       "(34288, 6)"
      ]
     },
     "execution_count": 20,
     "metadata": {},
     "output_type": "execute_result"
    }
   ],
   "source": [
    "df_final = df_wiki_rat.merge( gp  , on = \"id_movie\" , how = \"left\" )\n",
    "df_final.shape"
   ]
  },
  {
   "cell_type": "code",
   "execution_count": 21,
   "metadata": {},
   "outputs": [
    {
     "data": {
      "text/html": [
       "<div>\n",
       "<style scoped>\n",
       "    .dataframe tbody tr th:only-of-type {\n",
       "        vertical-align: middle;\n",
       "    }\n",
       "\n",
       "    .dataframe tbody tr th {\n",
       "        vertical-align: top;\n",
       "    }\n",
       "\n",
       "    .dataframe thead th {\n",
       "        text-align: right;\n",
       "    }\n",
       "</style>\n",
       "<table border=\"1\" class=\"dataframe\">\n",
       "  <thead>\n",
       "    <tr style=\"text-align: right;\">\n",
       "      <th></th>\n",
       "      <th>id_movie</th>\n",
       "      <th>title</th>\n",
       "      <th>year</th>\n",
       "      <th>plot</th>\n",
       "      <th>ratings</th>\n",
       "      <th>actors</th>\n",
       "    </tr>\n",
       "  </thead>\n",
       "  <tbody>\n",
       "    <tr>\n",
       "      <th>0</th>\n",
       "      <td>tt0000399</td>\n",
       "      <td>Jack and the Beanstalk</td>\n",
       "      <td>1902</td>\n",
       "      <td>The earliest known adaptation of the classic f...</td>\n",
       "      <td>6.1</td>\n",
       "      <td>JamesH.White,ThomasWhite,GeorgeS.Fleming,Edwin...</td>\n",
       "    </tr>\n",
       "    <tr>\n",
       "      <th>1</th>\n",
       "      <td>tt0000420</td>\n",
       "      <td>Alice in Wonderland</td>\n",
       "      <td>1903</td>\n",
       "      <td>Alice follows a large white rabbit down a \"Rab...</td>\n",
       "      <td>6.3</td>\n",
       "      <td>MayClark,CecilM.Hepworth,Blair,GeoffreyFaithfu...</td>\n",
       "    </tr>\n",
       "    <tr>\n",
       "      <th>2</th>\n",
       "      <td>tt0000439</td>\n",
       "      <td>The Great Train Robbery</td>\n",
       "      <td>1903</td>\n",
       "      <td>The film opens with two bandits breaking into ...</td>\n",
       "      <td>7.3</td>\n",
       "      <td>EdwinS.Porter,DonaldGallaher,GilbertM.'Broncho...</td>\n",
       "    </tr>\n",
       "    <tr>\n",
       "      <th>3</th>\n",
       "      <td>tt0000487</td>\n",
       "      <td>The Great Train Robbery</td>\n",
       "      <td>1903</td>\n",
       "      <td>The film opens with two bandits breaking into ...</td>\n",
       "      <td>7.1</td>\n",
       "      <td>EmilyLowry,SiegmundLubin,JackFrawley</td>\n",
       "    </tr>\n",
       "    <tr>\n",
       "      <th>4</th>\n",
       "      <td>tt0000488</td>\n",
       "      <td>The Land Beyond the Sunset</td>\n",
       "      <td>1912</td>\n",
       "      <td>Joe is an impoverished New York newsboy who li...</td>\n",
       "      <td>6.9</td>\n",
       "      <td>BigelowCooper,MartinFuller,Mrs.WilliamBechtel,...</td>\n",
       "    </tr>\n",
       "  </tbody>\n",
       "</table>\n",
       "</div>"
      ],
      "text/plain": [
       "    id_movie                       title  year  \\\n",
       "0  tt0000399      Jack and the Beanstalk  1902   \n",
       "1  tt0000420         Alice in Wonderland  1903   \n",
       "2  tt0000439     The Great Train Robbery  1903   \n",
       "3  tt0000487     The Great Train Robbery  1903   \n",
       "4  tt0000488  The Land Beyond the Sunset  1912   \n",
       "\n",
       "                                                plot  ratings  \\\n",
       "0  The earliest known adaptation of the classic f...      6.1   \n",
       "1  Alice follows a large white rabbit down a \"Rab...      6.3   \n",
       "2  The film opens with two bandits breaking into ...      7.3   \n",
       "3  The film opens with two bandits breaking into ...      7.1   \n",
       "4  Joe is an impoverished New York newsboy who li...      6.9   \n",
       "\n",
       "                                              actors  \n",
       "0  JamesH.White,ThomasWhite,GeorgeS.Fleming,Edwin...  \n",
       "1  MayClark,CecilM.Hepworth,Blair,GeoffreyFaithfu...  \n",
       "2  EdwinS.Porter,DonaldGallaher,GilbertM.'Broncho...  \n",
       "3               EmilyLowry,SiegmundLubin,JackFrawley  \n",
       "4  BigelowCooper,MartinFuller,Mrs.WilliamBechtel,...  "
      ]
     },
     "execution_count": 21,
     "metadata": {},
     "output_type": "execute_result"
    }
   ],
   "source": [
    "df_final.head()"
   ]
  },
  {
   "cell_type": "code",
   "execution_count": null,
   "metadata": {},
   "outputs": [],
   "source": []
  }
 ],
 "metadata": {
  "kernelspec": {
   "display_name": "Python 2",
   "language": "python",
   "name": "python2"
  },
  "language_info": {
   "codemirror_mode": {
    "name": "ipython",
    "version": 3
   },
   "file_extension": ".py",
   "mimetype": "text/x-python",
   "name": "python",
   "nbconvert_exporter": "python",
   "pygments_lexer": "ipython3",
   "version": "3.5.2"
  }
 },
 "nbformat": 4,
 "nbformat_minor": 2
}
